{
 "cells": [
  {
   "cell_type": "code",
   "execution_count": 75,
   "metadata": {},
   "outputs": [],
   "source": [
    "import numpy as np\n",
    "import matplotlib.pyplot as plt\n",
    "import scipy.stats as stats"
   ]
  },
  {
   "cell_type": "code",
   "execution_count": 74,
   "metadata": {},
   "outputs": [],
   "source": [
    "engelsk = [\n",
    "    [-7.13, -6.1],\n",
    "    [-7.63, -6.62],\n",
    "    [-7.25, -6.26],\n",
    "    [-7.75, -6.26],\n",
    "    [-8, -7.08],\n",
    "    [-5.63, -5.59],\n",
    "    [-6, -5.13],\n",
    "    [-5.13, -6.46],\n",
    "    [-7.5, -6.51],\n",
    "    [-7.75, -5.85],\n",
    "    [-5.13, -5.23],\n",
    "    [-7.75, -6.31],\n",
    "    [-7.75, -6.72],\n",
    "    [-6, -5.38],\n",
    "    [-6, -6.05],\n",
    "    [-1.38, 0.15],\n",
    "    [-7.75, -4.41],\n",
    "    [-7.38, -6.31],\n",
    "    [-7.88, -6.56],\n",
    "    [-7, -6.05]\n",
    "    ]"
   ]
  },
  {
   "cell_type": "code",
   "execution_count": 77,
   "metadata": {},
   "outputs": [],
   "source": [
    "tysk = [\n",
    "    [-3, -6.15],\n",
    "    [-2.5, -5.69],\n",
    "    [-7.63, -4.87],\n",
    "    [-4.75, -0.31],\n",
    "    [-6.88, -7.03],\n",
    "    [-5.13, -5.9],\n",
    "    [-4.25, -1.28],\n",
    "    [-4.13, -1.69],\n",
    "    [-7.5, -7.13],\n",
    "    [-6, -5.9],\n",
    "    [-1.38, 0.87],\n",
    "    [-6.25, -5.85],\n",
    "    [-1.88, 0.77],\n",
    "    [-1.88, -2.05],\n",
    "    [-6.13, -6.67],\n",
    "    [-3.13, -0.62],\n",
    "    [-3.75, 0.31],\n",
    "    [-6.13, -0.21],\n",
    "    [-1.63, -0.21],\n",
    "    [-0.88, -0.67]\n",
    "]"
   ]
  },
  {
   "cell_type": "code",
   "execution_count": 78,
   "metadata": {},
   "outputs": [],
   "source": [
    "fransk = [\n",
    "    [-7.63, -5.9],\n",
    "    [-7.25, -6],\n",
    "    [-6.13, -4.72],\n",
    "    [-7, -6.05],\n",
    "    [-6.34, -1.38],\n",
    "    [-7.75, -6.72],\n",
    "    [-5.88, -5.28],\n",
    "    [-7.38, -6.31],\n",
    "    [-7.75, -6.15],\n",
    "    [-6.13, -5.69],\n",
    "    [-7, -6.36],\n",
    "    [-6.63, -5.38],\n",
    "    [-7.75, -2.31],\n",
    "    [-6.5, -5.64],\n",
    "    [-7.38, -0.92],\n",
    "    [-6.5, -5.85],\n",
    "    [-7.25, -5.59],\n",
    "    [-6.38, -4.87],\n",
    "    [-7.25, -5.85],\n",
    "    [-5.75, -6]\n",
    "]"
   ]
  },
  {
   "cell_type": "code",
   "execution_count": 79,
   "metadata": {},
   "outputs": [],
   "source": [
    "tyrkiet = [\n",
    "    [-2.75, -2.1],\n",
    "    [-5, -5.38],\n",
    "    [-5.63, -6.46],\n",
    "    [-6.25, -4.97],\n",
    "    [-4.88, -5.08],\n",
    "    [-5.75, -5.33],\n",
    "    [-6.38, -4.92],\n",
    "    [-4.5, -5.23],\n",
    "    [-4.38, -5.38],\n",
    "    [-5.5, -5.49],\n",
    "    [-5.63, -5.18],\n",
    "    [-5, -6],\n",
    "    [-4.5, -4.36],\n",
    "    [-4.88, -4.15],\n",
    "    [-7.25, -4.62],\n",
    "    [-6.88, -6.05],\n",
    "    [-6.13, -5.03],\n",
    "    [-4.5, -3.85],\n",
    "    [-5.75, -5.74],\n",
    "    [-4.25, -3.74]\n",
    "]"
   ]
  },
  {
   "cell_type": "code",
   "execution_count": 96,
   "metadata": {},
   "outputs": [],
   "source": [
    "x_e = [x[0] for x in engelsk]\n",
    "y_e = [x[1] for x in engelsk]\n",
    "\n",
    "x_tysk = [x[0] for x in tysk]\n",
    "y_tysk = [x[1] for x in tysk]\n",
    "\n",
    "x_tyrkisk = [x[0] for x in tyrkiet]\n",
    "y_tyrkisk = [x[1] for x in tyrkiet]\n",
    "\n",
    "x_f = [x[0] for x in fransk]\n",
    "y_f = [x[1] for x in fransk]"
   ]
  },
  {
   "cell_type": "code",
   "execution_count": 136,
   "metadata": {},
   "outputs": [
    {
     "name": "stdout",
     "output_type": "stream",
     "text": [
      "English: -6.6895\n",
      "German: -4.240499999999999\n",
      "Turkisch: -5.289499999999999\n",
      "French: -6.8815\n"
     ]
    }
   ],
   "source": [
    "# Left / Right\n",
    "print(f'English: {np.mean(x_e)}\\nGerman: {np.mean(x_tysk)}\\nTurkisch: {np.mean(x_tyrkisk)}\\nFrench: {np.mean(x_f)}')"
   ]
  },
  {
   "cell_type": "code",
   "execution_count": 138,
   "metadata": {},
   "outputs": [
    {
     "name": "stdout",
     "output_type": "stream",
     "text": [
      "English: 1.532718092148716\n",
      "German: 2.096347955373821\n",
      "Turkisch: 1.0154185097781112\n",
      "French: 0.6351163279274121\n"
     ]
    }
   ],
   "source": [
    "# Left / Right Standard deviation\n",
    "print(f'English: {np.std(x_e)}\\nGerman: {np.std(x_tysk)}\\nTurkisch: {np.std(x_tyrkisk)}\\nFrench: {np.std(x_f)}')"
   ]
  },
  {
   "cell_type": "code",
   "execution_count": 135,
   "metadata": {},
   "outputs": [
    {
     "name": "stdout",
     "output_type": "stream",
     "text": [
      "English: -5.7365\n",
      "German: -3.0140000000000002\n",
      "Turkisch: -4.952999999999999\n",
      "French: -5.1485\n"
     ]
    }
   ],
   "source": [
    "# Authoritarian / Liberal\n",
    "print(f'English: {np.mean(y_e)}\\nGerman: {np.mean(y_tysk)}\\nTurkisch: {np.mean(y_tyrkisk)}\\nFrench: {np.mean(y_f)}')"
   ]
  },
  {
   "cell_type": "code",
   "execution_count": 137,
   "metadata": {},
   "outputs": [
    {
     "name": "stdout",
     "output_type": "stream",
     "text": [
      "English: 1.4846490325999608\n",
      "German: 2.932416068705122\n",
      "Turkisch: 0.9505740370954805\n",
      "French: 1.6015906936542808\n"
     ]
    }
   ],
   "source": [
    "# Authoritarian / Liberal standard deviation\n",
    "print(f'English: {np.std(y_e)}\\nGerman: {np.std(y_tysk)}\\nTurkisch: {np.std(y_tyrkisk)}\\nFrench: {np.std(y_f)}')"
   ]
  },
  {
   "cell_type": "code",
   "execution_count": 98,
   "metadata": {},
   "outputs": [
    {
     "data": {
      "text/plain": [
       "<matplotlib.lines.Line2D at 0x1a43c1d1e50>"
      ]
     },
     "execution_count": 98,
     "metadata": {},
     "output_type": "execute_result"
    },
    {
     "data": {
      "image/png": "[encoded data removed]",
      "text/plain": [
       "<Figure size 640x480 with 1 Axes>"
      ]
     },
     "metadata": {},
     "output_type": "display_data"
    }
   ],
   "source": [
    "plt.figure()\n",
    "plt.scatter(x_f,y_f, color = 'green', label = 'French')\n",
    "plt.scatter(x_tyrkisk, y_tyrkisk, color = 'red', label = 'Turkish')\n",
    "plt.scatter(x_e, y_e, color = 'blue', label = 'English')\n",
    "plt.scatter(x_tysk, y_tysk, color = 'yellow', label = 'German')\n",
    "plt.xlim(-8,8)\n",
    "plt.ylim(-8,8)\n",
    "plt.xlabel('<- Left  Right ->')\n",
    "plt.ylabel('<- Liberal Authoritarian ->')\n",
    "plt.legend()\n",
    "plt.axhline(y=0, color='k')\n",
    "plt.axvline(x=0, color='k')"
   ]
  },
  {
   "cell_type": "code",
   "execution_count": 119,
   "metadata": {},
   "outputs": [
    {
     "data": {
      "text/plain": [
       "KruskalResult(statistic=31.177667120777976, pvalue=7.798866463649742e-07)"
      ]
     },
     "execution_count": 119,
     "metadata": {},
     "output_type": "execute_result"
    }
   ],
   "source": [
    "stats.kruskal(x_e, x_tysk, x_tyrkisk, x_f, nan_policy = 'omit')"
   ]
  },
  {
   "cell_type": "code",
   "execution_count": 120,
   "metadata": {},
   "outputs": [
    {
     "data": {
      "text/plain": [
       "KruskalResult(statistic=14.484537756980894, pvalue=0.002314591184806908)"
      ]
     },
     "execution_count": 120,
     "metadata": {},
     "output_type": "execute_result"
    }
   ],
   "source": [
    "stats.kruskal(y_e, y_tysk, y_tyrkisk, y_f, nan_policy = 'omit')"
   ]
  },
  {
   "cell_type": "code",
   "execution_count": 125,
   "metadata": {},
   "outputs": [
    {
     "data": {
      "text/plain": [
       "MannwhitneyuResult(statistic=70.0, pvalue=0.00044909852716642525)"
      ]
     },
     "execution_count": 125,
     "metadata": {},
     "output_type": "execute_result"
    }
   ],
   "source": [
    "stats.mannwhitneyu(x_e, x_tysk)"
   ]
  }
 ],
 "metadata": {
  "kernelspec": {
   "display_name": "SEML",
   "language": "python",
   "name": "python3"
  },
  "language_info": {
   "codemirror_mode": {
    "name": "ipython",
    "version": 3
   },
   "file_extension": ".py",
   "mimetype": "text/x-python",
   "name": "python",
   "nbconvert_exporter": "python",
   "pygments_lexer": "ipython3",
   "version": "3.11.4"
  }
 },
 "nbformat": 4,
 "nbformat_minor": 2
}
